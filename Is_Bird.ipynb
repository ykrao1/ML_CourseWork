{
 "cells": [
  {
   "cell_type": "code",
   "execution_count": 2,
   "metadata": {},
   "outputs": [
    {
     "name": "stdout",
     "output_type": "stream",
     "text": [
      "Defaulting to user installation because normal site-packages is not writeable\n",
      "Collecting fastai\n",
      "  Using cached fastai-2.7.15-py3-none-any.whl.metadata (9.1 kB)\n",
      "Using cached fastai-2.7.15-py3-none-any.whl (232 kB)\n",
      "Installing collected packages: fastai\n",
      "Successfully installed fastai-2.7.15\n",
      "Note: you may need to restart the kernel to use updated packages.\n"
     ]
    }
   ],
   "source": [
    "pip install fastai --no-deps"
   ]
  },
  {
   "cell_type": "code",
   "execution_count": 2,
   "metadata": {},
   "outputs": [
    {
     "name": "stdout",
     "output_type": "stream",
     "text": [
      "Defaulting to user installation because normal site-packages is not writeable\n",
      "Requirement already satisfied: fastai in c:\\users\\yadagiri\\appdata\\roaming\\python\\python312\\site-packages (2.7.15)\n",
      "Requirement already satisfied: duckduckgo_search in c:\\users\\yadagiri\\appdata\\roaming\\python\\python312\\site-packages (6.1.0)\n",
      "Requirement already satisfied: pip in c:\\programdata\\miniconda3\\lib\\site-packages (from fastai) (23.3.1)\n",
      "Requirement already satisfied: packaging in c:\\programdata\\miniconda3\\lib\\site-packages (from fastai) (23.2)\n",
      "Requirement already satisfied: fastdownload<2,>=0.0.5 in c:\\users\\yadagiri\\appdata\\roaming\\python\\python312\\site-packages (from fastai) (0.0.7)\n",
      "Requirement already satisfied: fastcore<1.6,>=1.5.29 in c:\\users\\yadagiri\\appdata\\roaming\\python\\python312\\site-packages (from fastai) (1.5.38)\n",
      "Requirement already satisfied: torchvision>=0.11 in c:\\users\\yadagiri\\appdata\\roaming\\python\\python312\\site-packages (from fastai) (0.18.0)\n",
      "Requirement already satisfied: matplotlib in c:\\users\\yadagiri\\appdata\\roaming\\python\\python312\\site-packages (from fastai) (3.9.0)\n",
      "Requirement already satisfied: pandas in c:\\users\\yadagiri\\appdata\\roaming\\python\\python312\\site-packages (from fastai) (2.2.2)\n",
      "Requirement already satisfied: requests in c:\\programdata\\miniconda3\\lib\\site-packages (from fastai) (2.31.0)\n",
      "Requirement already satisfied: pyyaml in c:\\users\\yadagiri\\appdata\\roaming\\python\\python312\\site-packages (from fastai) (6.0.1)\n",
      "Requirement already satisfied: fastprogress>=0.2.4 in c:\\users\\yadagiri\\appdata\\roaming\\python\\python312\\site-packages (from fastai) (1.0.3)\n",
      "Requirement already satisfied: pillow>=9.0.0 in c:\\users\\yadagiri\\appdata\\roaming\\python\\python312\\site-packages (from fastai) (10.3.0)\n",
      "Requirement already satisfied: scikit-learn in c:\\users\\yadagiri\\appdata\\roaming\\python\\python312\\site-packages (from fastai) (1.5.0)\n",
      "Requirement already satisfied: scipy in c:\\users\\yadagiri\\appdata\\roaming\\python\\python312\\site-packages (from fastai) (1.13.1)\n",
      "Requirement already satisfied: spacy<4 in c:\\users\\yadagiri\\appdata\\roaming\\python\\python312\\site-packages (from fastai) (3.7.4)\n",
      "Requirement already satisfied: torch<2.4,>=1.10 in c:\\users\\yadagiri\\appdata\\roaming\\python\\python312\\site-packages (from fastai) (2.3.0)\n",
      "Requirement already satisfied: click>=8.1.7 in c:\\users\\yadagiri\\appdata\\roaming\\python\\python312\\site-packages (from duckduckgo_search) (8.1.7)\n",
      "Requirement already satisfied: pyreqwest-impersonate>=0.4.5 in c:\\users\\yadagiri\\appdata\\roaming\\python\\python312\\site-packages (from duckduckgo_search) (0.4.5)\n",
      "Requirement already satisfied: orjson>=3.10.3 in c:\\users\\yadagiri\\appdata\\roaming\\python\\python312\\site-packages (from duckduckgo_search) (3.10.3)\n",
      "Requirement already satisfied: colorama in c:\\programdata\\miniconda3\\lib\\site-packages (from click>=8.1.7->duckduckgo_search) (0.4.6)\n",
      "Requirement already satisfied: spacy-legacy<3.1.0,>=3.0.11 in c:\\users\\yadagiri\\appdata\\roaming\\python\\python312\\site-packages (from spacy<4->fastai) (3.0.12)\n",
      "Requirement already satisfied: spacy-loggers<2.0.0,>=1.0.0 in c:\\users\\yadagiri\\appdata\\roaming\\python\\python312\\site-packages (from spacy<4->fastai) (1.0.5)\n",
      "Requirement already satisfied: murmurhash<1.1.0,>=0.28.0 in c:\\users\\yadagiri\\appdata\\roaming\\python\\python312\\site-packages (from spacy<4->fastai) (1.0.10)\n",
      "Requirement already satisfied: cymem<2.1.0,>=2.0.2 in c:\\users\\yadagiri\\appdata\\roaming\\python\\python312\\site-packages (from spacy<4->fastai) (2.0.8)\n",
      "Requirement already satisfied: preshed<3.1.0,>=3.0.2 in c:\\users\\yadagiri\\appdata\\roaming\\python\\python312\\site-packages (from spacy<4->fastai) (3.0.9)\n",
      "Requirement already satisfied: thinc<8.3.0,>=8.2.2 in c:\\users\\yadagiri\\appdata\\roaming\\python\\python312\\site-packages (from spacy<4->fastai) (8.2.3)\n",
      "Requirement already satisfied: wasabi<1.2.0,>=0.9.1 in c:\\users\\yadagiri\\appdata\\roaming\\python\\python312\\site-packages (from spacy<4->fastai) (1.1.2)\n",
      "Requirement already satisfied: srsly<3.0.0,>=2.4.3 in c:\\users\\yadagiri\\appdata\\roaming\\python\\python312\\site-packages (from spacy<4->fastai) (2.4.8)\n",
      "Requirement already satisfied: catalogue<2.1.0,>=2.0.6 in c:\\users\\yadagiri\\appdata\\roaming\\python\\python312\\site-packages (from spacy<4->fastai) (2.0.10)\n",
      "Requirement already satisfied: weasel<0.4.0,>=0.1.0 in c:\\users\\yadagiri\\appdata\\roaming\\python\\python312\\site-packages (from spacy<4->fastai) (0.3.4)\n",
      "Requirement already satisfied: typer<0.10.0,>=0.3.0 in c:\\users\\yadagiri\\appdata\\roaming\\python\\python312\\site-packages (from spacy<4->fastai) (0.9.4)\n",
      "Requirement already satisfied: smart-open<7.0.0,>=5.2.1 in c:\\users\\yadagiri\\appdata\\roaming\\python\\python312\\site-packages (from spacy<4->fastai) (6.4.0)\n",
      "Requirement already satisfied: tqdm<5.0.0,>=4.38.0 in c:\\programdata\\miniconda3\\lib\\site-packages (from spacy<4->fastai) (4.65.0)\n",
      "Requirement already satisfied: pydantic!=1.8,!=1.8.1,<3.0.0,>=1.7.4 in c:\\users\\yadagiri\\appdata\\roaming\\python\\python312\\site-packages (from spacy<4->fastai) (2.7.1)\n",
      "Requirement already satisfied: jinja2 in c:\\users\\yadagiri\\appdata\\roaming\\python\\python312\\site-packages (from spacy<4->fastai) (3.1.4)\n",
      "Requirement already satisfied: setuptools in c:\\programdata\\miniconda3\\lib\\site-packages (from spacy<4->fastai) (68.2.2)\n",
      "Requirement already satisfied: langcodes<4.0.0,>=3.2.0 in c:\\users\\yadagiri\\appdata\\roaming\\python\\python312\\site-packages (from spacy<4->fastai) (3.4.0)\n",
      "Requirement already satisfied: numpy>=1.19.0 in c:\\users\\yadagiri\\appdata\\roaming\\python\\python312\\site-packages (from spacy<4->fastai) (1.26.4)\n",
      "Requirement already satisfied: charset-normalizer<4,>=2 in c:\\programdata\\miniconda3\\lib\\site-packages (from requests->fastai) (2.0.4)\n",
      "Requirement already satisfied: idna<4,>=2.5 in c:\\programdata\\miniconda3\\lib\\site-packages (from requests->fastai) (3.4)\n",
      "Requirement already satisfied: urllib3<3,>=1.21.1 in c:\\programdata\\miniconda3\\lib\\site-packages (from requests->fastai) (2.1.0)\n",
      "Requirement already satisfied: certifi>=2017.4.17 in c:\\programdata\\miniconda3\\lib\\site-packages (from requests->fastai) (2024.2.2)\n",
      "Requirement already satisfied: filelock in c:\\users\\yadagiri\\appdata\\roaming\\python\\python312\\site-packages (from torch<2.4,>=1.10->fastai) (3.14.0)\n",
      "Requirement already satisfied: typing-extensions>=4.8.0 in c:\\users\\yadagiri\\appdata\\roaming\\python\\python312\\site-packages (from torch<2.4,>=1.10->fastai) (4.11.0)\n",
      "Requirement already satisfied: sympy in c:\\users\\yadagiri\\appdata\\roaming\\python\\python312\\site-packages (from torch<2.4,>=1.10->fastai) (1.12)\n",
      "Requirement already satisfied: networkx in c:\\users\\yadagiri\\appdata\\roaming\\python\\python312\\site-packages (from torch<2.4,>=1.10->fastai) (3.3)\n",
      "Requirement already satisfied: fsspec in c:\\users\\yadagiri\\appdata\\roaming\\python\\python312\\site-packages (from torch<2.4,>=1.10->fastai) (2024.5.0)\n",
      "Requirement already satisfied: mkl<=2021.4.0,>=2021.1.1 in c:\\users\\yadagiri\\appdata\\roaming\\python\\python312\\site-packages (from torch<2.4,>=1.10->fastai) (2021.4.0)\n",
      "Requirement already satisfied: contourpy>=1.0.1 in c:\\users\\yadagiri\\appdata\\roaming\\python\\python312\\site-packages (from matplotlib->fastai) (1.2.1)\n",
      "Requirement already satisfied: cycler>=0.10 in c:\\users\\yadagiri\\appdata\\roaming\\python\\python312\\site-packages (from matplotlib->fastai) (0.12.1)\n",
      "Requirement already satisfied: fonttools>=4.22.0 in c:\\users\\yadagiri\\appdata\\roaming\\python\\python312\\site-packages (from matplotlib->fastai) (4.52.1)\n",
      "Requirement already satisfied: kiwisolver>=1.3.1 in c:\\users\\yadagiri\\appdata\\roaming\\python\\python312\\site-packages (from matplotlib->fastai) (1.4.5)\n",
      "Requirement already satisfied: pyparsing>=2.3.1 in c:\\users\\yadagiri\\appdata\\roaming\\python\\python312\\site-packages (from matplotlib->fastai) (3.1.2)\n",
      "Requirement already satisfied: python-dateutil>=2.7 in c:\\users\\yadagiri\\appdata\\roaming\\python\\python312\\site-packages (from matplotlib->fastai) (2.9.0.post0)\n",
      "Requirement already satisfied: pytz>=2020.1 in c:\\users\\yadagiri\\appdata\\roaming\\python\\python312\\site-packages (from pandas->fastai) (2024.1)\n",
      "Requirement already satisfied: tzdata>=2022.7 in c:\\users\\yadagiri\\appdata\\roaming\\python\\python312\\site-packages (from pandas->fastai) (2024.1)\n",
      "Requirement already satisfied: joblib>=1.2.0 in c:\\users\\yadagiri\\appdata\\roaming\\python\\python312\\site-packages (from scikit-learn->fastai) (1.4.2)\n",
      "Requirement already satisfied: threadpoolctl>=3.1.0 in c:\\users\\yadagiri\\appdata\\roaming\\python\\python312\\site-packages (from scikit-learn->fastai) (3.5.0)\n",
      "Requirement already satisfied: language-data>=1.2 in c:\\users\\yadagiri\\appdata\\roaming\\python\\python312\\site-packages (from langcodes<4.0.0,>=3.2.0->spacy<4->fastai) (1.2.0)\n",
      "Requirement already satisfied: intel-openmp==2021.* in c:\\users\\yadagiri\\appdata\\roaming\\python\\python312\\site-packages (from mkl<=2021.4.0,>=2021.1.1->torch<2.4,>=1.10->fastai) (2021.4.0)\n",
      "Requirement already satisfied: tbb==2021.* in c:\\users\\yadagiri\\appdata\\roaming\\python\\python312\\site-packages (from mkl<=2021.4.0,>=2021.1.1->torch<2.4,>=1.10->fastai) (2021.12.0)\n",
      "Requirement already satisfied: annotated-types>=0.4.0 in c:\\users\\yadagiri\\appdata\\roaming\\python\\python312\\site-packages (from pydantic!=1.8,!=1.8.1,<3.0.0,>=1.7.4->spacy<4->fastai) (0.6.0)\n",
      "Requirement already satisfied: pydantic-core==2.18.2 in c:\\users\\yadagiri\\appdata\\roaming\\python\\python312\\site-packages (from pydantic!=1.8,!=1.8.1,<3.0.0,>=1.7.4->spacy<4->fastai) (2.18.2)\n",
      "Requirement already satisfied: six>=1.5 in c:\\users\\yadagiri\\appdata\\roaming\\python\\python312\\site-packages (from python-dateutil>=2.7->matplotlib->fastai) (1.16.0)\n",
      "Requirement already satisfied: blis<0.8.0,>=0.7.8 in c:\\users\\yadagiri\\appdata\\roaming\\python\\python312\\site-packages (from thinc<8.3.0,>=8.2.2->spacy<4->fastai) (0.7.11)\n",
      "Requirement already satisfied: confection<1.0.0,>=0.0.1 in c:\\users\\yadagiri\\appdata\\roaming\\python\\python312\\site-packages (from thinc<8.3.0,>=8.2.2->spacy<4->fastai) (0.1.4)\n",
      "Requirement already satisfied: cloudpathlib<0.17.0,>=0.7.0 in c:\\users\\yadagiri\\appdata\\roaming\\python\\python312\\site-packages (from weasel<0.4.0,>=0.1.0->spacy<4->fastai) (0.16.0)\n",
      "Requirement already satisfied: MarkupSafe>=2.0 in c:\\users\\yadagiri\\appdata\\roaming\\python\\python312\\site-packages (from jinja2->spacy<4->fastai) (2.1.5)\n",
      "Requirement already satisfied: mpmath>=0.19 in c:\\users\\yadagiri\\appdata\\roaming\\python\\python312\\site-packages (from sympy->torch<2.4,>=1.10->fastai) (1.3.0)\n",
      "Requirement already satisfied: marisa-trie>=0.7.7 in c:\\users\\yadagiri\\appdata\\roaming\\python\\python312\\site-packages (from language-data>=1.2->langcodes<4.0.0,>=3.2.0->spacy<4->fastai) (1.1.1)\n",
      "Note: you may need to restart the kernel to use updated packages.\n"
     ]
    }
   ],
   "source": [
    "pip install fastai duckduckgo_search"
   ]
  },
  {
   "cell_type": "code",
   "execution_count": 6,
   "metadata": {},
   "outputs": [],
   "source": [
    "from duckduckgo_search import DDGS\n",
    "from fastcore.all import *\n",
    "\n",
    "def search_images(term, max_images=30):\n",
    "    print(f\"Searching for '{term}'\")\n",
    "    with DDGS() as ddgs:\n",
    "        ddgs_images_gen = ddgs.images(term)\n",
    "        count = 0\n",
    "        ddgs_images_list = []\n",
    "        while count < max_images:\n",
    "            image = next(ddgs_images_gen)\n",
    "            ddgs_images_list.append(image.get('image'))\n",
    "            count = count+1\n",
    "        return ddgs_images_list"
   ]
  },
  {
   "cell_type": "code",
   "execution_count": 11,
   "metadata": {},
   "outputs": [
    {
     "ename": "SyntaxError",
     "evalue": "invalid syntax (3649074102.py, line 1)",
     "output_type": "error",
     "traceback": [
      "\u001b[1;36m  Cell \u001b[1;32mIn[11], line 1\u001b[1;36m\u001b[0m\n\u001b[1;33m    ddgs as DDGS()\u001b[0m\n\u001b[1;37m         ^\u001b[0m\n\u001b[1;31mSyntaxError\u001b[0m\u001b[1;31m:\u001b[0m invalid syntax\n"
     ]
    }
   ],
   "source": [
    "DDGS()\n",
    "ddgs_images_gen = ddgs.images('bird photos')"
   ]
  },
  {
   "cell_type": "code",
   "execution_count": 8,
   "metadata": {},
   "outputs": [
    {
     "name": "stdout",
     "output_type": "stream",
     "text": [
      "Searching for 'bird photos'\n"
     ]
    },
    {
     "ename": "TypeError",
     "evalue": "'list' object is not an iterator",
     "output_type": "error",
     "traceback": [
      "\u001b[1;31m---------------------------------------------------------------------------\u001b[0m",
      "\u001b[1;31mTypeError\u001b[0m                                 Traceback (most recent call last)",
      "Cell \u001b[1;32mIn[8], line 1\u001b[0m\n\u001b[1;32m----> 1\u001b[0m urls \u001b[38;5;241m=\u001b[39m \u001b[43msearch_images\u001b[49m\u001b[43m(\u001b[49m\u001b[38;5;124;43m'\u001b[39;49m\u001b[38;5;124;43mbird photos\u001b[39;49m\u001b[38;5;124;43m'\u001b[39;49m\u001b[43m,\u001b[49m\u001b[43m \u001b[49m\u001b[43mmax_images\u001b[49m\u001b[38;5;241;43m=\u001b[39;49m\u001b[38;5;241;43m1\u001b[39;49m\u001b[43m)\u001b[49m\n",
      "Cell \u001b[1;32mIn[6], line 11\u001b[0m, in \u001b[0;36msearch_images\u001b[1;34m(term, max_images)\u001b[0m\n\u001b[0;32m      9\u001b[0m ddgs_images_list \u001b[38;5;241m=\u001b[39m []\n\u001b[0;32m     10\u001b[0m \u001b[38;5;28;01mwhile\u001b[39;00m count \u001b[38;5;241m<\u001b[39m max_images:\n\u001b[1;32m---> 11\u001b[0m     image \u001b[38;5;241m=\u001b[39m \u001b[38;5;28;43mnext\u001b[39;49m\u001b[43m(\u001b[49m\u001b[43mddgs_images_gen\u001b[49m\u001b[43m)\u001b[49m\n\u001b[0;32m     12\u001b[0m     ddgs_images_list\u001b[38;5;241m.\u001b[39mappend(image\u001b[38;5;241m.\u001b[39mget(\u001b[38;5;124m'\u001b[39m\u001b[38;5;124mimage\u001b[39m\u001b[38;5;124m'\u001b[39m))\n\u001b[0;32m     13\u001b[0m     count \u001b[38;5;241m=\u001b[39m count\u001b[38;5;241m+\u001b[39m\u001b[38;5;241m1\u001b[39m\n",
      "\u001b[1;31mTypeError\u001b[0m: 'list' object is not an iterator"
     ]
    }
   ],
   "source": [
    "urls = search_images('bird photos', max_images=1)\n",
    "\n"
   ]
  }
 ],
 "metadata": {
  "kernelspec": {
   "display_name": "base",
   "language": "python",
   "name": "python3"
  },
  "language_info": {
   "codemirror_mode": {
    "name": "ipython",
    "version": 3
   },
   "file_extension": ".py",
   "mimetype": "text/x-python",
   "name": "python",
   "nbconvert_exporter": "python",
   "pygments_lexer": "ipython3",
   "version": "3.12.2"
  }
 },
 "nbformat": 4,
 "nbformat_minor": 2
}
